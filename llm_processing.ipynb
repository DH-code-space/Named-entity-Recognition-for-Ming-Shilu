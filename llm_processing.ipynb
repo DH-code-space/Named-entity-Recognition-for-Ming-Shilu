{
 "cells": [
  {
   "cell_type": "code",
   "execution_count": null,
   "id": "bd5d282a",
   "metadata": {
    "scrolled": false
   },
   "outputs": [],
   "source": [
    "import openai\n",
    "import time\n",
    "\n",
    "openai.organization = \"YOUR_ORG_ID\"\n",
    "openai.api_key = \"OPENAI_API_KEY\"\n",
    "\n",
    "# openai.Model.list()\n",
    "\n",
    "# original_context_path = 'training_data.txt'\n",
    "original_context_path = 'testing_data.txt'\n",
    "# llm_output_path = 'training_data_gpt4output.txt'\n",
    "# llm_output_path = 'testing_data_gpt3.5output.txt'\n",
    "llm_output_path = 'testing_data_gpt4output.txt'\n",
    "# model = 'gpt-3.5-turbo-0613'\n",
    "model = 'gpt-4-0613'\n",
    "\n",
    "with open(original_context_path, 'rt', encoding='utf-8') as fi, open(llm_output_path, 'at', encoding='utf-8') as fo:\n",
    "    sample = fi.read().strip().split('\\n')\n",
    "    counter = 1\n",
    "    for text in sample:\n",
    "        prompt = f\"\"\"想像你是一個明史專家，精通文言文語法結構、明代都司衛所與明代行政區\n",
    "\n",
    "Entity Definition:\n",
    "1. PERSON: 人名。\n",
    "2. LOCWEIORG: 地名或明代都司衛所名或政府機構名。地名(LOC)為地理位置的名稱，如 cities, countries, continents, districts。都司衛所(WEI)為明朝時期的軍事機構，負責維持地方治安和軍事防禦。政府機構(ORG)為執行行政事務的單位。\n",
    "3. OFFICIAL: 官職名為一個都司衛所或政府機構中的特定職位或稱號，用於指代具有特定職責和權限的人員。\n",
    "\n",
    "Output Format:\n",
    "{{'PERSON': [list of entities present], 'LOCWEIORG': [list of entities present], 'OFFICIAL': [list of entities present]}}\n",
    "If no entities are presented in any categories keep it ['None']\n",
    "\n",
    "Examples:\n",
    "1. Sentence: 勒湖廣布政司右參議李存文致仕，以撫按官論其久病廢事也。命：原任南京右軍都督府僉書署都督僉事李節充分守陜西蘭州參將。改固原北路遊擊署都指揮僉事劉葵為興都留守司署正留守掌司事。\n",
    "Output: {{'PERSON': ['李存文', '李節', '劉葵'], 'LOCWEIORG': ['湖廣布政司(LOC)', '南京右軍都督府(WEI)', '陜西(LOC)', '蘭州(LOC)', '固原北路(LOC)', '興都留守司(WEI)'], 'OFFICIAL': ['右參議', '撫按官', '僉書', '署都督僉事', '參將', '遊擊', '署都指揮僉事', '署正留守']}}\n",
    "2. Sentence: 甲子改工部尚書金純于刑部，刑部尚書兼詹事府詹事吳中于工部，兼職如故。陞兩浙都轉塩運司判官向寶為都察院左僉都御史，陞府軍左衛千戶黃鎮為本衛指揮僉事。夜有星大如鷄子，色青白，見天紀。\n",
    "Output: {{'PERSON': ['金純', '吳中', '向寶', '黃鎮'], 'LOCWEIORG': ['工部(ORG)', '刑部(ORG)', '詹事府(ORG)', '兩浙(LOC)', '都轉塩運司(ORG)', '都察院(ORG)', '府軍左衛(WEI)'], 'OFFICIAL': ['尚書', '詹事', '判官', '左僉都御史', '千戶', '指揮僉事']}}\n",
    "3. Sentence: 丁巳四川永寧宣撫司遣費真等、雲南大理府十二關長官司長官李羅禾、乖西蠻夷長官司長官劉紹進、貴州底寨長官司長官蔡文昇，貴州飬龍坑長官司長官蔡昇進，貴州等處宣慰使司遣把事楊瑾等來朝貢馬，賜鈔絹如例。\n",
    "Output: {{'PERSON': ['費真', '李羅禾', '劉紹進', '蔡文昇', '蔡昇進', '楊瑾'], 'LOCWEIORG': ['四川(LOC)', '永寧宣撫司(LOC)', '雲南(LOC)', '大理府(LOC)', '十二關長官司(WEI)', '乖西蠻夷長官司(WEI)', '貴州底寨長官司(WEI)', '貴州飬龍坑長官司(WEI)', '貴州等處宣慰使司(WEI)'], 'OFFICIAL': ['長官', '把事']}}\n",
    "4. Sentence: {text}\n",
    "Output: ?\"\"\"\n",
    "\n",
    "        response = openai.ChatCompletion.create(\n",
    "            model=model,\n",
    "            messages=[\n",
    "                {\"role\": \"user\", \"content\": prompt}\n",
    "            ],\n",
    "            temperature=0\n",
    "        )\n",
    "\n",
    "        fo.write(response.choices[0].message[\"content\"] + '\\n')\n",
    "        \n",
    "        print(text)\n",
    "        print(response.choices[0].message[\"content\"])\n",
    "        print(counter, \"finished\")\n",
    "        counter += 1\n",
    "        time.sleep(5)"
   ]
  },
  {
   "cell_type": "code",
   "execution_count": null,
   "id": "29dd785e",
   "metadata": {},
   "outputs": [],
   "source": []
  }
 ],
 "metadata": {
  "kernelspec": {
   "display_name": "Python 3 (ipykernel)",
   "language": "python",
   "name": "python3"
  },
  "language_info": {
   "codemirror_mode": {
    "name": "ipython",
    "version": 3
   },
   "file_extension": ".py",
   "mimetype": "text/x-python",
   "name": "python",
   "nbconvert_exporter": "python",
   "pygments_lexer": "ipython3",
   "version": "3.11.2"
  }
 },
 "nbformat": 4,
 "nbformat_minor": 5
}
